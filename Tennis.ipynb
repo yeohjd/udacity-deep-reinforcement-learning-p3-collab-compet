{
 "cells": [
  {
   "cell_type": "markdown",
   "metadata": {},
   "source": [
    "# Collaboration and Competition\n",
    "\n",
    "---\n",
    "\n",
    "You are welcome to use this coding environment to train your agent for the project.  Follow the instructions below to get started!\n",
    "\n",
    "### 1. Start the Environment\n",
    "\n",
    "Run the next code cell to install a few packages.  This line will take a few minutes to run!"
   ]
  },
  {
   "cell_type": "code",
   "execution_count": 2,
   "metadata": {},
   "outputs": [
    {
     "name": "stdout",
     "output_type": "stream",
     "text": [
      "\u001b[31mtensorflow 1.7.1 has requirement numpy>=1.13.3, but you'll have numpy 1.12.1 which is incompatible.\u001b[0m\r\n",
      "\u001b[31mipython 6.5.0 has requirement prompt-toolkit<2.0.0,>=1.0.15, but you'll have prompt-toolkit 3.0.33 which is incompatible.\u001b[0m\r\n",
      "\u001b[31mjupyter-console 6.4.3 has requirement jupyter-client>=7.0.0, but you'll have jupyter-client 5.2.4 which is incompatible.\u001b[0m\r\n"
     ]
    }
   ],
   "source": [
    "!pip -q install ./python"
   ]
  },
  {
   "cell_type": "code",
   "execution_count": 30,
   "metadata": {},
   "outputs": [],
   "source": [
    "import time\n",
    "import itertools"
   ]
  },
  {
   "cell_type": "markdown",
   "metadata": {},
   "source": [
    "The environment is already saved in the Workspace and can be accessed at the file path provided below. "
   ]
  },
  {
   "cell_type": "code",
   "execution_count": 4,
   "metadata": {},
   "outputs": [
    {
     "name": "stderr",
     "output_type": "stream",
     "text": [
      "INFO:unityagents:\n",
      "'Academy' started successfully!\n",
      "Unity Academy name: Academy\n",
      "        Number of Brains: 1\n",
      "        Number of External Brains : 1\n",
      "        Lesson number : 0\n",
      "        Reset Parameters :\n",
      "\t\t\n",
      "Unity brain name: TennisBrain\n",
      "        Number of Visual Observations (per agent): 0\n",
      "        Vector Observation space type: continuous\n",
      "        Vector Observation space size (per agent): 8\n",
      "        Number of stacked Vector Observation: 3\n",
      "        Vector Action space type: continuous\n",
      "        Vector Action space size (per agent): 2\n",
      "        Vector Action descriptions: , \n"
     ]
    }
   ],
   "source": [
    "from unityagents import UnityEnvironment\n",
    "import numpy as np\n",
    "\n",
    "env = UnityEnvironment(file_name=\"/data/Tennis_Linux_NoVis/Tennis\")"
   ]
  },
  {
   "cell_type": "markdown",
   "metadata": {},
   "source": [
    "Environments contain **_brains_** which are responsible for deciding the actions of their associated agents. Here we check for the first brain available, and set it as the default brain we will be controlling from Python."
   ]
  },
  {
   "cell_type": "code",
   "execution_count": 5,
   "metadata": {},
   "outputs": [],
   "source": [
    "# get the default brain\n",
    "brain_name = env.brain_names[0]\n",
    "brain = env.brains[brain_name]"
   ]
  },
  {
   "cell_type": "markdown",
   "metadata": {},
   "source": [
    "### 2. Examine the State and Action Spaces\n",
    "\n",
    "Run the code cell below to print some information about the environment."
   ]
  },
  {
   "cell_type": "code",
   "execution_count": 6,
   "metadata": {},
   "outputs": [
    {
     "name": "stdout",
     "output_type": "stream",
     "text": [
      "Number of agents: 2\n",
      "Size of each action: 2\n",
      "There are 2 agents. Each observes a state with length: 24\n",
      "The state for the first agent looks like: [ 0.          0.          0.          0.          0.          0.          0.\n",
      "  0.          0.          0.          0.          0.          0.          0.\n",
      "  0.          0.         -6.65278625 -1.5        -0.          0.\n",
      "  6.83172083  6.         -0.          0.        ]\n"
     ]
    }
   ],
   "source": [
    "# reset the environment\n",
    "env_info = env.reset(train_mode=True)[brain_name]\n",
    "\n",
    "# number of agents \n",
    "num_agents = len(env_info.agents)\n",
    "print('Number of agents:', num_agents)\n",
    "\n",
    "# size of each action\n",
    "action_size = brain.vector_action_space_size\n",
    "print('Size of each action:', action_size)\n",
    "\n",
    "# examine the state space \n",
    "states = env_info.vector_observations\n",
    "state_size = states.shape[1]\n",
    "print('There are {} agents. Each observes a state with length: {}'.format(states.shape[0], state_size))\n",
    "print('The state for the first agent looks like:', states[0])"
   ]
  },
  {
   "cell_type": "code",
   "execution_count": 7,
   "metadata": {},
   "outputs": [
    {
     "data": {
      "text/plain": [
       "(2, 24)"
      ]
     },
     "execution_count": 7,
     "metadata": {},
     "output_type": "execute_result"
    }
   ],
   "source": [
    "states.shape"
   ]
  },
  {
   "cell_type": "code",
   "execution_count": 8,
   "metadata": {},
   "outputs": [
    {
     "data": {
      "text/plain": [
       "array([[ 0.        ,  0.        ,  0.        ,  0.        ,  0.        ,\n",
       "         0.        ,  0.        ,  0.        ,  0.        ,  0.        ,\n",
       "         0.        ,  0.        ,  0.        ,  0.        ,  0.        ,\n",
       "         0.        , -6.65278625, -1.5       , -0.        ,  0.        ,\n",
       "         6.83172083,  6.        , -0.        ,  0.        ],\n",
       "       [ 0.        ,  0.        ,  0.        ,  0.        ,  0.        ,\n",
       "         0.        ,  0.        ,  0.        ,  0.        ,  0.        ,\n",
       "         0.        ,  0.        ,  0.        ,  0.        ,  0.        ,\n",
       "         0.        , -6.4669857 , -1.5       ,  0.        ,  0.        ,\n",
       "        -6.83172083,  6.        ,  0.        ,  0.        ]])"
      ]
     },
     "execution_count": 8,
     "metadata": {},
     "output_type": "execute_result"
    }
   ],
   "source": [
    "states"
   ]
  },
  {
   "cell_type": "code",
   "execution_count": 9,
   "metadata": {},
   "outputs": [
    {
     "data": {
      "text/plain": [
       "array([ 0.        ,  0.        ,  0.        ,  0.        ,  0.        ,\n",
       "        0.        ,  0.        ,  0.        ,  0.        ,  0.        ,\n",
       "        0.        ,  0.        ,  0.        ,  0.        ,  0.        ,\n",
       "        0.        , -6.65278625, -1.5       , -0.        ,  0.        ,\n",
       "        6.83172083,  6.        , -0.        ,  0.        ])"
      ]
     },
     "execution_count": 9,
     "metadata": {},
     "output_type": "execute_result"
    }
   ],
   "source": [
    "states[0]"
   ]
  },
  {
   "cell_type": "code",
   "execution_count": 10,
   "metadata": {},
   "outputs": [
    {
     "data": {
      "text/plain": [
       "array([ 0.        ,  0.        ,  0.        ,  0.        ,  0.        ,\n",
       "        0.        ,  0.        ,  0.        ,  0.        ,  0.        ,\n",
       "        0.        ,  0.        ,  0.        ,  0.        ,  0.        ,\n",
       "        0.        , -6.65278625, -1.5       , -0.        ,  0.        ,\n",
       "        6.83172083,  6.        , -0.        ,  0.        ])"
      ]
     },
     "execution_count": 10,
     "metadata": {},
     "output_type": "execute_result"
    }
   ],
   "source": [
    "states[0,:]"
   ]
  },
  {
   "cell_type": "code",
   "execution_count": 11,
   "metadata": {},
   "outputs": [],
   "source": [
    "rewards = env_info.rewards                         # get reward (for each agent)\n",
    "dones = env_info.local_done "
   ]
  },
  {
   "cell_type": "code",
   "execution_count": 12,
   "metadata": {},
   "outputs": [
    {
     "data": {
      "text/plain": [
       "[0.0, 0.0]"
      ]
     },
     "execution_count": 12,
     "metadata": {},
     "output_type": "execute_result"
    }
   ],
   "source": [
    "rewards"
   ]
  },
  {
   "cell_type": "code",
   "execution_count": 47,
   "metadata": {},
   "outputs": [
    {
     "data": {
      "text/plain": [
       "0.0"
      ]
     },
     "execution_count": 47,
     "metadata": {},
     "output_type": "execute_result"
    }
   ],
   "source": [
    "rewards[0]"
   ]
  },
  {
   "cell_type": "code",
   "execution_count": 13,
   "metadata": {},
   "outputs": [
    {
     "data": {
      "text/plain": [
       "[False, False]"
      ]
     },
     "execution_count": 13,
     "metadata": {},
     "output_type": "execute_result"
    }
   ],
   "source": [
    "dones"
   ]
  },
  {
   "cell_type": "markdown",
   "metadata": {},
   "source": [
    "### 3. Take Random Actions in the Environment\n",
    "\n",
    "In the next code cell, you will learn how to use the Python API to control the agent and receive feedback from the environment.\n",
    "\n",
    "Note that **in this coding environment, you will not be able to watch the agents while they are training**, and you should set `train_mode=True` to restart the environment."
   ]
  },
  {
   "cell_type": "markdown",
   "metadata": {},
   "source": [
    "for i in range(5):                                         # play game for 5 episodes\n",
    "    env_info = env.reset(train_mode=False)[brain_name]     # reset the environment    \n",
    "    states = env_info.vector_observations                  # get the current state (for each agent)\n",
    "    scores = np.zeros(num_agents)                          # initialize the score (for each agent)\n",
    "    while True:\n",
    "        actions = np.random.randn(num_agents, action_size) # select an action (for each agent)\n",
    "        actions = np.clip(actions, -1, 1)                  # all actions between -1 and 1\n",
    "        env_info = env.step(actions)[brain_name]           # send all actions to tne environment\n",
    "        next_states = env_info.vector_observations         # get next state (for each agent)\n",
    "        rewards = env_info.rewards                         # get reward (for each agent)\n",
    "        dones = env_info.local_done                        # see if episode finished\n",
    "        scores += env_info.rewards                         # update the score (for each agent)\n",
    "        states = next_states                               # roll over states to next time step\n",
    "        if np.any(dones):                                  # exit loop if episode finished\n",
    "            break\n",
    "    print('Total score (averaged over agents) this episode: {}'.format(np.mean(scores)))"
   ]
  },
  {
   "cell_type": "markdown",
   "metadata": {},
   "source": [
    "When finished, you can close the environment."
   ]
  },
  {
   "cell_type": "markdown",
   "metadata": {},
   "source": [
    "env.close()"
   ]
  },
  {
   "cell_type": "markdown",
   "metadata": {},
   "source": [
    "### 4. It's Your Turn!\n",
    "\n",
    "Now it's your turn to train your own agent to solve the environment!  A few **important notes**:\n",
    "- When training the environment, set `train_mode=True`, so that the line for resetting the environment looks like the following:\n",
    "```python\n",
    "env_info = env.reset(train_mode=True)[brain_name]\n",
    "```\n",
    "- To structure your work, you're welcome to work directly in this Jupyter notebook, or you might like to start over with a new file!  You can see the list of files in the workspace by clicking on **_Jupyter_** in the top left corner of the notebook.\n",
    "- In this coding environment, you will not be able to watch the agents while they are training.  However, **_after training the agents_**, you can download the saved model weights to watch the agents on your own machine! "
   ]
  },
  {
   "cell_type": "code",
   "execution_count": 14,
   "metadata": {},
   "outputs": [],
   "source": [
    "import numpy as np\n",
    "import torch\n",
    "import torch.nn as nn\n",
    "import torch.nn.functional as F\n",
    "import random\n",
    "import copy\n",
    "from collections import namedtuple, deque\n",
    "import torch.optim as optim\n"
   ]
  },
  {
   "cell_type": "code",
   "execution_count": 15,
   "metadata": {},
   "outputs": [],
   "source": [
    "\n",
    "def hidden_init(layer):\n",
    "    fan_in = layer.weight.data.size()[0]\n",
    "    lim = 1. / np.sqrt(fan_in)\n",
    "    return (-lim, lim)\n",
    "\n",
    "class Actor(nn.Module):\n",
    "    \"\"\"Actor (Policy) Model.\"\"\"\n",
    "\n",
    "    def __init__(self, state_size, action_size, seed, fc1_units=256, fc2_units=128):\n",
    "        \"\"\"Initialize parameters and build model.\n",
    "        Params\n",
    "        ======\n",
    "            state_size (int): Dimension of each state\n",
    "            action_size (int): Dimension of each action\n",
    "            seed (int): Random seed\n",
    "            fc1_units (int): Number of nodes in first hidden layer\n",
    "            fc2_units (int): Number of nodes in second hidden layer\n",
    "        \"\"\"\n",
    "        super(Actor, self).__init__()\n",
    "        self.seed = torch.manual_seed(seed)\n",
    "        self.fc1 = nn.Linear(state_size, fc1_units)\n",
    "        self.fc2 = nn.Linear(fc1_units, fc2_units)\n",
    "        self.fc3 = nn.Linear(fc2_units, action_size)\n",
    "        self.bn1=nn.BatchNorm1d(fc1_units)\n",
    "        self.reset_parameters()\n",
    "\n",
    "    def reset_parameters(self):\n",
    "        self.fc1.weight.data.uniform_(*hidden_init(self.fc1))\n",
    "        self.fc2.weight.data.uniform_(*hidden_init(self.fc2))\n",
    "        self.fc3.weight.data.uniform_(-3e-3, 3e-3)\n",
    "\n",
    "    def forward(self, state):\n",
    "        \"\"\"Build an actor (policy) network that maps states -> actions.\"\"\"\n",
    "        x = F.relu(self.bn1(self.fc1(state)))\n",
    "        x = F.relu(self.fc2(x))\n",
    "        return F.tanh(self.fc3(x))\n",
    "\n",
    "\n",
    "class Critic(nn.Module):\n",
    "    \"\"\"Critic (Value) Model.\"\"\"\n",
    "\n",
    "    def __init__(self, state_size, action_size, seed, fcs1_units=256, fc2_units=128):\n",
    "        \"\"\"Initialize parameters and build model.\n",
    "        Params\n",
    "        ======\n",
    "            state_size (int): Dimension of each state\n",
    "            action_size (int): Dimension of each action\n",
    "            seed (int): Random seed\n",
    "            fcs1_units (int): Number of nodes in the first hidden layer\n",
    "            fc2_units (int): Number of nodes in the second hidden layer\n",
    "        \"\"\"\n",
    "        super(Critic, self).__init__()\n",
    "        self.seed = torch.manual_seed(seed)\n",
    "        self.fcs1 = nn.Linear(state_size, fcs1_units)\n",
    "        self.fc2 = nn.Linear(fcs1_units+action_size, fc2_units)\n",
    "        self.fc3 = nn.Linear(fc2_units, 1)\n",
    "        self.bn1=nn.BatchNorm1d(fcs1_units)\n",
    "        self.reset_parameters()\n",
    "\n",
    "    def reset_parameters(self):\n",
    "        self.fcs1.weight.data.uniform_(*hidden_init(self.fcs1))\n",
    "        self.fc2.weight.data.uniform_(*hidden_init(self.fc2))\n",
    "        self.fc3.weight.data.uniform_(-3e-3, 3e-3)\n",
    "\n",
    "    def forward(self, state, action):\n",
    "        \"\"\"Build a critic (value) network that maps (state, action) pairs -> Q-values.\"\"\"\n",
    "        xs = F.relu(self.bn1(self.fcs1(state)))\n",
    "        x = torch.cat((xs, action), dim=1)\n",
    "        x = F.relu(self.fc2(x))\n",
    "        return self.fc3(x)\n"
   ]
  },
  {
   "cell_type": "code",
   "execution_count": 56,
   "metadata": {},
   "outputs": [],
   "source": [
    "BUFFER_SIZE = int(1e6)  # replay buffer size\n",
    "BATCH_SIZE = 256        # minibatch size\n",
    "GAMMA = 0.99            # discount factor\n",
    "TAU = 1e-3              # for soft update of target parameters\n",
    "LR_ACTOR = 1e-4         # learning rate of the actor \n",
    "LR_CRITIC = 1e-3        # learning rate of the critic\n",
    "WEIGHT_DECAY = 0        # L2 weight decay\n",
    "NOISE_DECAY=0.9999\n",
    "UPDATE_EVERY=20\n",
    "FREQ_UPDATES=10\n",
    "device = torch.device(\"cuda:0\" if torch.cuda.is_available() else \"cpu\")\n",
    "\n",
    "class Agent():\n",
    "    \"\"\"Interacts with and learns from the environment.\"\"\"\n",
    "    \n",
    "    def __init__(self, state_size, action_size, random_seed):\n",
    "        \"\"\"Initialize an Agent object.\n",
    "        \n",
    "        Params\n",
    "        ======\n",
    "            state_size (int): dimension of each state\n",
    "            action_size (int): dimension of each action\n",
    "            random_seed (int): random seed\n",
    "        \"\"\"\n",
    "        self.state_size = state_size\n",
    "        self.action_size = action_size\n",
    "        self.seed = random.seed(random_seed)\n",
    "\n",
    "        # Actor Network (w/ Target Network)\n",
    "        self.actor_local = Actor(state_size, action_size, random_seed).to(device)\n",
    "        self.actor_target = Actor(state_size, action_size, random_seed).to(device)\n",
    "        self.actor_optimizer = optim.Adam(self.actor_local.parameters(), lr=LR_ACTOR)\n",
    "\n",
    "        # Critic Network (w/ Target Network)\n",
    "        self.critic_local = Critic(state_size, action_size, random_seed).to(device)\n",
    "        self.critic_target = Critic(state_size, action_size, random_seed).to(device)\n",
    "        self.critic_optimizer = optim.Adam(self.critic_local.parameters(), lr=LR_CRITIC, weight_decay=WEIGHT_DECAY)\n",
    "        # ----------------------- initialize target networks ----------------------- #\n",
    "        self.soft_update(self.critic_local, self.critic_target, 1)\n",
    "        self.soft_update(self.actor_local, self.actor_target, 1)\n",
    "        # Noise process\n",
    "        self.noise = OUNoise(action_size, random_seed)\n",
    "        self.noise_decay=NOISE_DECAY\n",
    "        # Replay memory\n",
    "        self.memory = ReplayBuffer(action_size, BUFFER_SIZE, BATCH_SIZE, random_seed)\n",
    "        #self.t_step = 0\n",
    "\n",
    "    def step(self, state, action, reward, next_state, done,t):\n",
    "        \"\"\"Save experience in replay memory, and use random sample from buffer to learn.\"\"\"\n",
    "        # Save experience / reward\n",
    "        #self.t_step=self.t_step+1\n",
    "        #for state, action, reward, next_state, done in zip(states, actions, rewards, next_states, dones):\n",
    "        self.memory.add(state, action, reward, next_state, done)\n",
    "        # Learn, if enough samples are available in memory\n",
    "        #if (self.t_step) % UPDATE_EVERY == 0:\n",
    "        if t % UPDATE_EVERY == 0:\n",
    "            if len(self.memory) > BATCH_SIZE:\n",
    "                for i in range(FREQ_UPDATES):  \n",
    "                    experiences = self.memory.sample()\n",
    "                    self.learn(experiences, GAMMA)\n",
    "\n",
    "    def act(self, state, add_noise=True):\n",
    "        \"\"\"Returns actions for given state as per current policy.\"\"\"\n",
    "        state = torch.from_numpy(state).float().to(device)\n",
    "        self.actor_local.eval()\n",
    "        '''no grad stops gradient tracking, eval() disables dropoff etc.. to allow proper evaluation'''\n",
    "        with torch.no_grad():\n",
    "            action = self.actor_local(state).cpu().data.numpy()\n",
    "        self.actor_local.train()\n",
    "        if add_noise:\n",
    "            action += (self.noise_decay*self.noise.sample())\n",
    "            self.noise_decay*=self.noise_decay\n",
    "        return np.clip(action, -1, 1)\n",
    "\n",
    "    def reset(self):\n",
    "        self.noise.reset()\n",
    "\n",
    "    def learn(self, experiences, gamma):\n",
    "        \"\"\"Update policy and value parameters using given batch of experience tuples.\n",
    "        Q_targets = r + γ * critic_target(next_state, actor_target(next_state))\n",
    "        where:\n",
    "            actor_target(state) -> action\n",
    "            critic_target(state, action) -> Q-value\n",
    "\n",
    "        Params\n",
    "        ======\n",
    "            experiences (Tuple[torch.Tensor]): tuple of (s, a, r, s', done) tuples \n",
    "            gamma (float): discount factor\n",
    "        \"\"\"\n",
    "        states, actions, rewards, next_states, dones = experiences\n",
    "\n",
    "        # ---------------------------- update critic ---------------------------- #\n",
    "        # Get predicted next-state actions and Q values from target models\n",
    "        actions_next = self.actor_target(next_states)\n",
    "        Q_targets_next = self.critic_target(next_states, actions_next)\n",
    "        # Compute Q targets for current states (y_i)\n",
    "        Q_targets = rewards + (gamma * Q_targets_next * (1 - dones))\n",
    "        # Compute critic loss\n",
    "        Q_expected = self.critic_local(states, actions)\n",
    "        critic_loss = F.mse_loss(Q_expected, Q_targets)\n",
    "        # Minimize the loss\n",
    "        self.critic_optimizer.zero_grad()\n",
    "        critic_loss.backward()\n",
    "        self.critic_optimizer.step()\n",
    "\n",
    "        # ---------------------------- update actor ---------------------------- #\n",
    "        # Compute actor loss\n",
    "        actions_pred = self.actor_local(states)\n",
    "        actor_loss = -self.critic_local(states, actions_pred).mean()\n",
    "        # Minimize the loss\n",
    "        self.actor_optimizer.zero_grad()\n",
    "        actor_loss.backward()\n",
    "        self.actor_optimizer.step()\n",
    "\n",
    "        # ----------------------- update target networks ----------------------- #\n",
    "        self.soft_update(self.critic_local, self.critic_target, TAU)\n",
    "        self.soft_update(self.actor_local, self.actor_target, TAU)                     \n",
    "\n",
    "    def soft_update(self, local_model, target_model, tau):\n",
    "        \"\"\"Soft update model parameters.\n",
    "        θ_target = τ*θ_local + (1 - τ)*θ_target\n",
    "\n",
    "        Params\n",
    "        ======\n",
    "            local_model: PyTorch model (weights will be copied from)\n",
    "            target_model: PyTorch model (weights will be copied to)\n",
    "            tau (float): interpolation parameter \n",
    "        \"\"\"\n",
    "        for target_param, local_param in zip(target_model.parameters(), local_model.parameters()):\n",
    "            target_param.data.copy_(tau*local_param.data + (1.0-tau)*target_param.data)\n",
    "\n",
    "class OUNoise:\n",
    "    \"\"\"Ornstein-Uhlenbeck process.\"\"\"\n",
    "\n",
    "    def __init__(self, size, seed, mu=0., theta=0.15, sigma=0.2):\n",
    "        \"\"\"Initialize parameters and noise process.\"\"\"\n",
    "        self.mu = mu * np.ones(size)\n",
    "        self.theta = theta\n",
    "        self.sigma = sigma\n",
    "        self.seed = random.seed(seed)\n",
    "        self.reset()\n",
    "\n",
    "    def reset(self):\n",
    "        \"\"\"Reset the internal state (= noise) to mean (mu).\"\"\"\n",
    "        self.state = copy.copy(self.mu)\n",
    "\n",
    "    def sample(self):\n",
    "        \"\"\"Update internal state and return it as a noise sample.\"\"\"\n",
    "        x = self.state\n",
    "        dx = self.theta * (self.mu - x) + self.sigma * (np.random.standard_normal(size=x.shape))\n",
    "        self.state = x + dx\n",
    "        return self.state\n",
    "\n",
    "class ReplayBuffer:\n",
    "    \"\"\"Fixed-size buffer to store experience tuples.\"\"\"\n",
    "\n",
    "    def __init__(self, action_size, buffer_size, batch_size, seed):\n",
    "        \"\"\"Initialize a ReplayBuffer object.\n",
    "        Params\n",
    "        ======\n",
    "            buffer_size (int): maximum size of buffer\n",
    "            batch_size (int): size of each training batch\n",
    "        \"\"\"\n",
    "        self.action_size = action_size\n",
    "        self.memory = deque(maxlen=buffer_size)  # internal memory (deque)\n",
    "        self.batch_size = batch_size\n",
    "        self.experience = namedtuple(\"Experience\", field_names=[\"state\", \"action\", \"reward\", \"next_state\", \"done\"])\n",
    "        self.seed = random.seed(seed)\n",
    "    \n",
    "    def add(self, state, action, reward, next_state, done):\n",
    "        \"\"\"Add a new experience to memory.\"\"\"\n",
    "        e = self.experience(state, action, reward, next_state, done)\n",
    "        self.memory.append(e)\n",
    "    \n",
    "    def sample(self):\n",
    "        \"\"\"Randomly sample a batch of experiences from memory.\"\"\"\n",
    "        experiences = random.sample(self.memory, k=self.batch_size)\n",
    "\n",
    "        states = torch.from_numpy(np.vstack([e.state for e in experiences if e is not None])).float().to(device)\n",
    "        actions = torch.from_numpy(np.vstack([e.action for e in experiences if e is not None])).float().to(device)\n",
    "        rewards = torch.from_numpy(np.vstack([e.reward for e in experiences if e is not None])).float().to(device)\n",
    "        next_states = torch.from_numpy(np.vstack([e.next_state for e in experiences if e is not None])).float().to(device)\n",
    "        dones = torch.from_numpy(np.vstack([e.done for e in experiences if e is not None]).astype(np.uint8)).float().to(device)\n",
    "\n",
    "        return (states, actions, rewards, next_states, dones)\n",
    "\n",
    "    def __len__(self):\n",
    "        \"\"\"Return the current size of internal memory.\"\"\"\n",
    "        return len(self.memory)"
   ]
  },
  {
   "cell_type": "code",
   "execution_count": 61,
   "metadata": {},
   "outputs": [],
   "source": [
    "class MultiAgents():\n",
    "    def __init__ (self, num_agents, state_size, action_size, buffer_size, batch_size, random_seed):\n",
    "        self.num_agents=num_agents\n",
    "        self.memory=ReplayBuffer(action_size, buffer_size, batch_size, random_seed)\n",
    "        self.agents=[Agent(state_size, action_size, random_seed) for num in range(self.num_agents)]\n",
    "    \n",
    "    def step(self, states, actions, rewards, next_states, dones,t):\n",
    "        total_t=[t,t]\n",
    "        for i_t in total_t:\n",
    "            for num in range(self.num_agents):\n",
    "                self.agents[num].step(states[num],actions[num],rewards[num],next_states[num],dones[num],i_t)\n",
    "            \n",
    "    def act(self,states):\n",
    "        actions=[self.agents[num].act(np.array([states[num]])) for num in range(self.num_agents)]\n",
    "        return actions\n",
    "    \n",
    "    def reset(self):\n",
    "        [self.agents[num].reset() for num in range(self.num_agents)]\n",
    "    \n",
    "    \n",
    "    def save(self):\n",
    "        for num in range(self.num_agents):\n",
    "            torch.save(self.agents[num].actor_local.state_dict(), 'checkpoint_actor_%d.pth'%(num));\n",
    "            torch.save(self.agents[num].critic_local.state_dict(), 'checkpoint_critic_%d.pth'%(num));\n",
    "            \n",
    "    def load(self):\n",
    "        for num in range(self.num_agents):\n",
    "            self.agents[num].actor_local.load_state_dict(torch.load('checkpoints/checkpoint_actor_%d.pth'%(num), map_location='cpu'));\n",
    "            self.agents[num].critic_local.load_state_dict(torch.load('checkpoints/checkpoint_critic_%d.pth'%(num), map_location='cpu'));"
   ]
  },
  {
   "cell_type": "code",
   "execution_count": 62,
   "metadata": {},
   "outputs": [],
   "source": [
    "agent = MultiAgents(num_agents, state_size, action_size, buffer_size=BUFFER_SIZE, batch_size=BATCH_SIZE, random_seed=2)"
   ]
  },
  {
   "cell_type": "code",
   "execution_count": 63,
   "metadata": {},
   "outputs": [],
   "source": [
    "def ma_ddpg(n_episodes=4000, max_t=2000, print_every=20):\n",
    "    scores_deque = deque(maxlen=100)\n",
    "    scores = []\n",
    "    for i_episode in range(1, n_episodes+1):\n",
    "        start_time=time.time()\n",
    "        states = env.reset(train_mode=True)[brain_name].vector_observations\n",
    "        agent.reset()\n",
    "        score = np.zeros(num_agents)  \n",
    "        for t in range(max_t):\n",
    "            actions = agent.act(states)\n",
    "            env_info=env.step(actions)[brain_name]\n",
    "            rewards = env_info.rewards                  \n",
    "            next_states = env_info.vector_observations\n",
    "            dones=env_info.local_done\n",
    "            #total_t=[t,t]\n",
    "            #for i_t in total_t:\n",
    "            #    for num in range(2):\n",
    "            #        print('\\rTimeStep {}\\tState {}\\tAction {} \\tReward {}\\tNext_state {}\\tDone {}'.format(i_t,states[num],actions[num],rewards[num],next_states[num],dones[num]))\n",
    "            agent.step(states, actions, rewards, next_states,dones,t)\n",
    "            states = next_states\n",
    "            score += rewards\n",
    "            if np.any(dones):\n",
    "                break \n",
    "        max_score=np.max(score)\n",
    "        scores_deque.append(max_score)\n",
    "        scores.append(max_score)\n",
    "        print('\\rEpisode {}\\tAverage Score: {:.2f}'.format(i_episode, np.mean(scores_deque)), end=\"\")\n",
    "        agent.save()\n",
    "        if i_episode % print_every == 0:\n",
    "            print('\\rEpisode {}\\tAverage Score: {:.2f}\\tTime Taken For Current Episode:{:.2f}'.format(i_episode, np.mean(scores_deque), (time.time() - start_time)))\n",
    "        if i_episode>=100 and np.mean(scores_deque)>=0.5:\n",
    "            agent.save()\n",
    "            print('\\nEnvironment solved in {:d} episodes!\\tAverage Score: {:.2f}'.format(i_episode-100, np.mean(scores_deque)))\n",
    "            break\n",
    "    return scores\n",
    "\n"
   ]
  },
  {
   "cell_type": "code",
   "execution_count": 64,
   "metadata": {},
   "outputs": [
    {
     "name": "stdout",
     "output_type": "stream",
     "text": [
      "Episode 20\tAverage Score: 0.00\tTime Taken For Current Episode:1.24\n",
      "Episode 40\tAverage Score: 0.00\tTime Taken For Current Episode:1.22\n",
      "Episode 60\tAverage Score: 0.00\tTime Taken For Current Episode:1.25\n",
      "Episode 80\tAverage Score: 0.01\tTime Taken For Current Episode:1.21\n",
      "Episode 100\tAverage Score: 0.01\tTime Taken For Current Episode:1.21\n",
      "Episode 120\tAverage Score: 0.01\tTime Taken For Current Episode:1.24\n",
      "Episode 140\tAverage Score: 0.01\tTime Taken For Current Episode:1.23\n",
      "Episode 160\tAverage Score: 0.01\tTime Taken For Current Episode:1.24\n",
      "Episode 180\tAverage Score: 0.01\tTime Taken For Current Episode:1.27\n",
      "Episode 200\tAverage Score: 0.00\tTime Taken For Current Episode:1.23\n",
      "Episode 220\tAverage Score: 0.01\tTime Taken For Current Episode:1.22\n",
      "Episode 240\tAverage Score: 0.01\tTime Taken For Current Episode:1.21\n",
      "Episode 260\tAverage Score: 0.01\tTime Taken For Current Episode:1.27\n",
      "Episode 280\tAverage Score: 0.00\tTime Taken For Current Episode:1.26\n",
      "Episode 300\tAverage Score: 0.01\tTime Taken For Current Episode:1.36\n",
      "Episode 320\tAverage Score: 0.01\tTime Taken For Current Episode:1.29\n",
      "Episode 340\tAverage Score: 0.01\tTime Taken For Current Episode:1.23\n",
      "Episode 360\tAverage Score: 0.01\tTime Taken For Current Episode:1.24\n",
      "Episode 380\tAverage Score: 0.01\tTime Taken For Current Episode:1.28\n",
      "Episode 400\tAverage Score: 0.00\tTime Taken For Current Episode:1.34\n",
      "Episode 420\tAverage Score: 0.00\tTime Taken For Current Episode:1.28\n",
      "Episode 440\tAverage Score: 0.00\tTime Taken For Current Episode:1.25\n",
      "Episode 460\tAverage Score: 0.00\tTime Taken For Current Episode:1.28\n",
      "Episode 480\tAverage Score: 0.00\tTime Taken For Current Episode:1.26\n",
      "Episode 500\tAverage Score: 0.01\tTime Taken For Current Episode:1.30\n",
      "Episode 520\tAverage Score: 0.01\tTime Taken For Current Episode:1.28\n",
      "Episode 540\tAverage Score: 0.01\tTime Taken For Current Episode:1.33\n",
      "Episode 560\tAverage Score: 0.01\tTime Taken For Current Episode:1.29\n",
      "Episode 580\tAverage Score: 0.01\tTime Taken For Current Episode:1.25\n",
      "Episode 600\tAverage Score: 0.01\tTime Taken For Current Episode:1.35\n",
      "Episode 620\tAverage Score: 0.00\tTime Taken For Current Episode:1.33\n",
      "Episode 640\tAverage Score: 0.00\tTime Taken For Current Episode:1.30\n",
      "Episode 660\tAverage Score: 0.01\tTime Taken For Current Episode:2.59\n",
      "Episode 680\tAverage Score: 0.01\tTime Taken For Current Episode:1.30\n",
      "Episode 700\tAverage Score: 0.01\tTime Taken For Current Episode:1.37\n",
      "Episode 720\tAverage Score: 0.02\tTime Taken For Current Episode:1.29\n",
      "Episode 740\tAverage Score: 0.02\tTime Taken For Current Episode:1.29\n",
      "Episode 760\tAverage Score: 0.02\tTime Taken For Current Episode:1.26\n",
      "Episode 780\tAverage Score: 0.02\tTime Taken For Current Episode:1.26\n",
      "Episode 800\tAverage Score: 0.02\tTime Taken For Current Episode:2.56\n",
      "Episode 820\tAverage Score: 0.02\tTime Taken For Current Episode:1.32\n",
      "Episode 840\tAverage Score: 0.03\tTime Taken For Current Episode:2.52\n",
      "Episode 860\tAverage Score: 0.03\tTime Taken For Current Episode:2.64\n",
      "Episode 880\tAverage Score: 0.04\tTime Taken For Current Episode:2.69\n",
      "Episode 900\tAverage Score: 0.05\tTime Taken For Current Episode:2.69\n",
      "Episode 920\tAverage Score: 0.05\tTime Taken For Current Episode:2.69\n",
      "Episode 940\tAverage Score: 0.05\tTime Taken For Current Episode:1.29\n",
      "Episode 960\tAverage Score: 0.05\tTime Taken For Current Episode:1.30\n",
      "Episode 980\tAverage Score: 0.06\tTime Taken For Current Episode:2.54\n",
      "Episode 1000\tAverage Score: 0.07\tTime Taken For Current Episode:2.50\n",
      "Episode 1020\tAverage Score: 0.08\tTime Taken For Current Episode:3.96\n",
      "Episode 1040\tAverage Score: 0.09\tTime Taken For Current Episode:2.71\n",
      "Episode 1060\tAverage Score: 0.10\tTime Taken For Current Episode:6.53\n",
      "Episode 1080\tAverage Score: 0.11\tTime Taken For Current Episode:2.62\n",
      "Episode 1100\tAverage Score: 0.11\tTime Taken For Current Episode:2.57\n",
      "Episode 1120\tAverage Score: 0.11\tTime Taken For Current Episode:2.75\n",
      "Episode 1140\tAverage Score: 0.12\tTime Taken For Current Episode:2.77\n",
      "Episode 1160\tAverage Score: 0.13\tTime Taken For Current Episode:6.72\n",
      "Episode 1180\tAverage Score: 0.14\tTime Taken For Current Episode:4.06\n",
      "Episode 1200\tAverage Score: 0.13\tTime Taken For Current Episode:2.64\n",
      "Episode 1220\tAverage Score: 0.14\tTime Taken For Current Episode:9.31\n",
      "Episode 1240\tAverage Score: 0.15\tTime Taken For Current Episode:1.35\n",
      "Episode 1260\tAverage Score: 0.16\tTime Taken For Current Episode:4.04\n",
      "Episode 1280\tAverage Score: 0.16\tTime Taken For Current Episode:5.29\n",
      "Episode 1300\tAverage Score: 0.16\tTime Taken For Current Episode:1.42\n",
      "Episode 1320\tAverage Score: 0.16\tTime Taken For Current Episode:9.25\n",
      "Episode 1340\tAverage Score: 0.15\tTime Taken For Current Episode:6.53\n",
      "Episode 1360\tAverage Score: 0.16\tTime Taken For Current Episode:4.14\n",
      "Episode 1380\tAverage Score: 0.18\tTime Taken For Current Episode:3.90\n",
      "Episode 1400\tAverage Score: 0.24\tTime Taken For Current Episode:20.44\n",
      "Episode 1420\tAverage Score: 0.29\tTime Taken For Current Episode:11.10\n",
      "Episode 1440\tAverage Score: 0.32\tTime Taken For Current Episode:2.79\n",
      "Episode 1460\tAverage Score: 0.33\tTime Taken For Current Episode:8.10\n",
      "Episode 1480\tAverage Score: 0.32\tTime Taken For Current Episode:5.30\n",
      "Episode 1500\tAverage Score: 0.29\tTime Taken For Current Episode:3.80\n",
      "Episode 1520\tAverage Score: 0.27\tTime Taken For Current Episode:5.17\n",
      "Episode 1540\tAverage Score: 0.27\tTime Taken For Current Episode:5.21\n",
      "Episode 1560\tAverage Score: 0.28\tTime Taken For Current Episode:3.68\n",
      "Episode 1580\tAverage Score: 0.27\tTime Taken For Current Episode:7.28\n",
      "Episode 1600\tAverage Score: 0.26\tTime Taken For Current Episode:5.03\n",
      "Episode 1620\tAverage Score: 0.25\tTime Taken For Current Episode:7.06\n",
      "Episode 1640\tAverage Score: 0.25\tTime Taken For Current Episode:9.76\n",
      "Episode 1660\tAverage Score: 0.26\tTime Taken For Current Episode:14.68\n",
      "Episode 1680\tAverage Score: 0.40\tTime Taken For Current Episode:46.55\n",
      "Episode 1696\tAverage Score: 0.51\n",
      "Environment solved in 1596 episodes!\tAverage Score: 0.51\n"
     ]
    }
   ],
   "source": [
    "scores = ma_ddpg()"
   ]
  },
  {
   "cell_type": "code",
   "execution_count": 69,
   "metadata": {},
   "outputs": [
    {
     "name": "stderr",
     "output_type": "stream",
     "text": [
      "/opt/conda/lib/python3.6/site-packages/numpy/core/fromnumeric.py:2889: RuntimeWarning: Mean of empty slice.\n",
      "  out=out, **kwargs)\n",
      "/opt/conda/lib/python3.6/site-packages/numpy/core/_methods.py:80: RuntimeWarning: invalid value encountered in double_scalars\n",
      "  ret = ret.dtype.type(ret / rcount)\n"
     ]
    }
   ],
   "source": [
    "average_scores = [];\n",
    "for num_episode in range(len(scores)):\n",
    "    if num_episode < 100:\n",
    "        avg_score = np.mean(scores[:num_episode])\n",
    "    else:\n",
    "        avg_score = np.mean(scores[(num_episode - 100): num_episode])\n",
    "    average_scores.append(avg_score)"
   ]
  },
  {
   "cell_type": "code",
   "execution_count": 70,
   "metadata": {},
   "outputs": [
    {
     "data": {
      "text/plain": [
       "<matplotlib.legend.Legend at 0x7f2a35263a58>"
      ]
     },
     "execution_count": 70,
     "metadata": {},
     "output_type": "execute_result"
    },
    {
     "data": {
      "image/png": "[encoded data removed]",
      "text/plain": [
       "<matplotlib.figure.Figure at 0x7f2a786e84e0>"
      ]
     },
     "metadata": {
      "needs_background": "light"
     },
     "output_type": "display_data"
    }
   ],
   "source": [
    "import matplotlib.pyplot as plt;\n",
    "%matplotlib inline\n",
    "\n",
    "plt.figure(figsize=(20,10))\n",
    "plt.plot(scores, label='score',linewidth=0.4)\n",
    "plt.axhline(y=0.5, linestyle='dashed', label='target')\n",
    "plt.plot(average_scores, c='red', linewidth=4, label='Average 100 Episodes')\n",
    "#plt.axvline(x=target_met, linestyle='dashed', c='black', linewidth=2, label='target_met')\n",
    "plt.legend()"
   ]
  },
  {
   "cell_type": "code",
   "execution_count": null,
   "metadata": {},
   "outputs": [],
   "source": []
  }
 ],
 "metadata": {
  "kernelspec": {
   "display_name": "Python 3",
   "language": "python",
   "name": "python3"
  },
  "language_info": {
   "codemirror_mode": {
    "name": "ipython",
    "version": 3
   },
   "file_extension": ".py",
   "mimetype": "text/x-python",
   "name": "python",
   "nbconvert_exporter": "python",
   "pygments_lexer": "ipython3",
   "version": "3.8.5"
  }
 },
 "nbformat": 4,
 "nbformat_minor": 2
}
